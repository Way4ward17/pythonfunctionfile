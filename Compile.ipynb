{
 "cells": [
  {
   "cell_type": "code",
   "execution_count": 1,
   "metadata": {},
   "outputs": [
    {
     "name": "stdout",
     "output_type": "stream",
     "text": [
      "Enter The Values1\n",
      "Enter The Values5\n",
      "Enter The Values0\n",
      "Enter The Values2\n",
      "Enter The Values5\n",
      "0\n"
     ]
    }
   ],
   "source": [
    "def discount(quantity):\n",
    "    if quantity >=0 & quantity <=20:\n",
    "        amount = 5/100 * quantity\n",
    "    elif quantity >=20 & quantity <=50:\n",
    "        amount = 15/100 * quantity\n",
    "    elif quantity >=50 & quantity <=100:\n",
    "        amount = 50/100 * quantity\n",
    "    return amount;\n",
    "\n",
    "def calculatePrice(qty):\n",
    "    price = qty * 97.0\n",
    "    return price\n",
    "\n",
    "def display(qty,serial,price):\n",
    "    print(\"DARLINTON SALES RECORD\")\n",
    "    print(\"Customer: %d \" % int(serial) + \"Record\")\n",
    "    print(\"Unit Price: %.2f\" % price)\n",
    "    print(\"Total Price:%.2f\" % calculatePrice(qty))\n",
    "    print(\"Discount Price:%.2f\" % discount(qty))\n",
    "    totalPrice = calculatePrice(qty) - discount(qty)\n",
    "    print(\"Amount Payable:%.2f\" % totalPrice)\n",
    "\n",
    "#display(50,1,97.0)\n",
    "#Solving Smallest and Largest\n",
    "\n",
    "def largest():\n",
    "    listOf = [9,2,33,0,5,6]\n",
    "    killer = listOf[0];\n",
    "    for baba in listOf:\n",
    "        if baba < killer:\n",
    "            killer = baba\n",
    "    print(killer)\n",
    "#Solving Smallest and Largest END\n",
    "\n",
    "def additionn(a,b):\n",
    "        c= a + b\n",
    "        print('way4ward ' *10)\n",
    "        for i in range(5):\n",
    "            print(i)\n",
    "            print(\"way4ward %d\" %  i)\n",
    "        return c\n",
    "\n",
    "def replaceFunction():\n",
    "    greet = \"Good Morning\"\n",
    "    print(greet)\n",
    "    changed = greet.replace(\"Morning\",\"Afternoon\")\n",
    "    print(changed)\n",
    "\n",
    "def largestWith(listOf):\n",
    "    killer = listOf[0];\n",
    "    for baba in listOf:\n",
    "        if baba < killer:\n",
    "            killer = baba\n",
    "    print(killer)\n",
    "\n",
    "def accepToArray():\n",
    "    baba=[]\n",
    "    for i in range(1,6):\n",
    "        baba.append(input(\"Enter The Values\"))\n",
    "    largestWith(baba)\n",
    "accepToArray()\n"
   ]
  },
  {
   "cell_type": "code",
   "execution_count": 2,
   "metadata": {},
   "outputs": [
    {
     "name": "stdout",
     "output_type": "stream",
     "text": [
      "Hello World\n"
     ]
    }
   ],
   "source": [
    "%run runfile.py"
   ]
  },
  {
   "cell_type": "code",
   "execution_count": 5,
   "metadata": {},
   "outputs": [
    {
     "name": "stdout",
     "output_type": "stream",
     "text": [
      "5\n"
     ]
    }
   ],
   "source": [
    "sum = lambda x,y: x+y\n",
    "\n",
    "print(sum(2,3))\n"
   ]
  },
  {
   "cell_type": "code",
   "execution_count": null,
   "metadata": {},
   "outputs": [],
   "source": []
  }
 ],
 "metadata": {
  "kernelspec": {
   "display_name": "Python 3",
   "language": "python",
   "name": "python3"
  },
  "language_info": {
   "codemirror_mode": {
    "name": "ipython",
    "version": 3
   },
   "file_extension": ".py",
   "mimetype": "text/x-python",
   "name": "python",
   "nbconvert_exporter": "python",
   "pygments_lexer": "ipython3",
   "version": "3.7.3"
  }
 },
 "nbformat": 4,
 "nbformat_minor": 2
}
